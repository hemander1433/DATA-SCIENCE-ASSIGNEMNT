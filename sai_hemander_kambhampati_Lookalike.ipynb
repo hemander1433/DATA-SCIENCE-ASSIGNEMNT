{
  "nbformat": 4,
  "nbformat_minor": 0,
  "metadata": {
    "colab": {
      "provenance": [],
      "authorship_tag": "ABX9TyMXSgfR1gjpgKn6UGaC28Ki",
      "include_colab_link": true
    },
    "kernelspec": {
      "name": "python3",
      "display_name": "Python 3"
    },
    "language_info": {
      "name": "python"
    }
  },
  "cells": [
    {
      "cell_type": "markdown",
      "metadata": {
        "id": "view-in-github",
        "colab_type": "text"
      },
      "source": [
        "<a href=\"https://colab.research.google.com/github/hemander1433/DATA-SCIENCE-ASSIGNEMNT/blob/main/sai_hemander_kambhampati_Lookalike.ipynb\" target=\"_parent\"><img src=\"https://colab.research.google.com/assets/colab-badge.svg\" alt=\"Open In Colab\"/></a>"
      ]
    },
    {
      "cell_type": "markdown",
      "source": [
        "**LOOKALIKE MODEL TASK 2**\n"
      ],
      "metadata": {
        "id": "6JZmsvMhLdD8"
      }
    },
    {
      "cell_type": "code",
      "execution_count": 7,
      "metadata": {
        "id": "6YLngZM9Eovo"
      },
      "outputs": [],
      "source": [
        "import pandas as pd\n",
        "from sklearn.metrics.pairwise import cosine_similarity\n",
        "from sklearn.feature_extraction.text import TfidfVectorizer\n",
        "from sklearn.preprocessing import MinMaxScaler"
      ]
    },
    {
      "cell_type": "code",
      "source": [],
      "metadata": {
        "id": "moaNQzG7GAFY"
      },
      "execution_count": null,
      "outputs": []
    },
    {
      "cell_type": "code",
      "source": [
        "customers_df = pd.read_csv('Customers.csv')\n",
        "products_df = pd.read_csv('Products.csv')\n",
        "transactions_df = pd.read_csv('Transactions.csv')\n",
        "print(customers_df.head())\n",
        "print(products_df.head())\n",
        "print(transactions_df.head())"
      ],
      "metadata": {
        "colab": {
          "base_uri": "https://localhost:8080/"
        },
        "id": "HJf4UkO-E2uA",
        "outputId": "86173a87-3e12-4b4e-e79c-723f7cad6976"
      },
      "execution_count": 13,
      "outputs": [
        {
          "output_type": "stream",
          "name": "stdout",
          "text": [
            "  CustomerID        CustomerName         Region  SignupDate\n",
            "0      C0001    Lawrence Carroll  South America  2022-07-10\n",
            "1      C0002      Elizabeth Lutz           Asia  2022-02-13\n",
            "2      C0003      Michael Rivera  South America  2024-03-07\n",
            "3      C0004  Kathleen Rodriguez  South America  2022-10-09\n",
            "4      C0005         Laura Weber           Asia  2022-08-15\n",
            "  ProductID              ProductName     Category   Price\n",
            "0      P001     ActiveWear Biography        Books  169.30\n",
            "1      P002    ActiveWear Smartwatch  Electronics  346.30\n",
            "2      P003  ComfortLiving Biography        Books   44.12\n",
            "3      P004            BookWorld Rug   Home Decor   95.69\n",
            "4      P005          TechPro T-Shirt     Clothing  429.31\n",
            "  TransactionID CustomerID ProductID      TransactionDate  Quantity  \\\n",
            "0        T00001      C0199      P067  2024-08-25 12:38:23         1   \n",
            "1        T00112      C0146      P067  2024-05-27 22:23:54         1   \n",
            "2        T00166      C0127      P067  2024-04-25 07:38:55         1   \n",
            "3        T00272      C0087      P067  2024-03-26 22:55:37         2   \n",
            "4        T00363      C0070      P067  2024-03-21 15:10:10         3   \n",
            "\n",
            "   TotalValue   Price  \n",
            "0      300.68  300.68  \n",
            "1      300.68  300.68  \n",
            "2      300.68  300.68  \n",
            "3      601.36  300.68  \n",
            "4      902.04  300.68  \n"
          ]
        }
      ]
    },
    {
      "cell_type": "code",
      "source": [
        "# Merge transaction data with product and customer details\n",
        "merged_df = transactions_df.merge(customers_df, on='CustomerID').merge(products_df, on='ProductID')\n",
        "print(merged_df.head())"
      ],
      "metadata": {
        "colab": {
          "base_uri": "https://localhost:8080/"
        },
        "id": "_LNDe6RdFQEw",
        "outputId": "40ce5d1b-6bfd-458c-af5d-849b314ec111"
      },
      "execution_count": 15,
      "outputs": [
        {
          "output_type": "stream",
          "name": "stdout",
          "text": [
            "  TransactionID CustomerID ProductID      TransactionDate  Quantity  \\\n",
            "0        T00001      C0199      P067  2024-08-25 12:38:23         1   \n",
            "1        T00112      C0146      P067  2024-05-27 22:23:54         1   \n",
            "2        T00166      C0127      P067  2024-04-25 07:38:55         1   \n",
            "3        T00272      C0087      P067  2024-03-26 22:55:37         2   \n",
            "4        T00363      C0070      P067  2024-03-21 15:10:10         3   \n",
            "\n",
            "   TotalValue  Price_x     CustomerName         Region  SignupDate  \\\n",
            "0      300.68   300.68   Andrea Jenkins         Europe  2022-12-03   \n",
            "1      300.68   300.68  Brittany Harvey           Asia  2024-09-04   \n",
            "2      300.68   300.68  Kathryn Stevens         Europe  2024-04-04   \n",
            "3      601.36   300.68  Travis Campbell  South America  2024-04-11   \n",
            "4      902.04   300.68    Timothy Perez         Europe  2022-03-15   \n",
            "\n",
            "                       ProductName     Category  Price_y  \n",
            "0  ComfortLiving Bluetooth Speaker  Electronics   300.68  \n",
            "1  ComfortLiving Bluetooth Speaker  Electronics   300.68  \n",
            "2  ComfortLiving Bluetooth Speaker  Electronics   300.68  \n",
            "3  ComfortLiving Bluetooth Speaker  Electronics   300.68  \n",
            "4  ComfortLiving Bluetooth Speaker  Electronics   300.68  \n"
          ]
        }
      ]
    },
    {
      "cell_type": "code",
      "source": [
        "# Create a customer-product matrix (aggregated purchase behavior)\n",
        "customer_product_matrix = merged_df.pivot_table(\n",
        "    index='CustomerID',\n",
        "    columns='ProductID',\n",
        "    values='TotalValue',\n",
        "    aggfunc='sum',\n",
        "    fill_value=0\n",
        ")"
      ],
      "metadata": {
        "id": "qG-jt-eGHFV-"
      },
      "execution_count": 16,
      "outputs": []
    },
    {
      "cell_type": "code",
      "source": [
        "customers_df['RegionEncoded'] = customers_df['Region'].astype('category').cat.codes\n",
        "\n",
        "# Merge region data into the matrix\n",
        "customer_profile_matrix = customer_product_matrix.merge(\n",
        "    customers_df[['CustomerID', 'RegionEncoded']],\n",
        "    left_index=True,\n",
        "    right_on='CustomerID'\n",
        ").set_index('CustomerID')"
      ],
      "metadata": {
        "id": "ftbO0sJcHIlx"
      },
      "execution_count": 17,
      "outputs": []
    },
    {
      "cell_type": "code",
      "source": [
        "# Normalize features for caluculation purpose...\n",
        "\n",
        "scaler = MinMaxScaler()\n",
        "normalized_matrix = scaler.fit_transform(customer_profile_matrix)"
      ],
      "metadata": {
        "id": "abaX5YVXHQxl"
      },
      "execution_count": 19,
      "outputs": []
    },
    {
      "cell_type": "code",
      "source": [
        "# Calculate cosine similarity\n",
        "similarity_matrix = cosine_similarity(normalized_matrix)\n",
        "\n",
        "# Create a similarity DataFrame\n",
        "similarity_df = pd.DataFrame(similarity_matrix, index=customer_profile_matrix.index, columns=customer_profile_matrix.index)\n"
      ],
      "metadata": {
        "id": "SRDZRTNoHXHz"
      },
      "execution_count": 20,
      "outputs": []
    },
    {
      "cell_type": "code",
      "source": [
        "def recommend_similar_customers(customer_id, top_n=3):\n",
        "    if customer_id not in similarity_df.index:\n",
        "        return f\"Customer {customer_id} not found.\"\n",
        "    # Sort by similarity score and exclude the customer itself\n",
        "    similar_customers = similarity_df[customer_id].sort_values(ascending=False).iloc[1:top_n+1]\n",
        "    recommendations = similar_customers.index.tolist()\n",
        "    scores = similar_customers.values\n",
        "    return pd.DataFrame({'RecommendedCustomerID': recommendations, 'SimilarityScore': scores})\n"
      ],
      "metadata": {
        "id": "7MBpMqppHizL"
      },
      "execution_count": 21,
      "outputs": []
    },
    {
      "cell_type": "code",
      "source": [
        " ## for an example , let us take a random number , here i have choosen number 5.\n",
        " ## lets see which customer jd it will print and what wil be the similarity socre...\n",
        "\n",
        "input_customer_id = 'C0005'\n",
        "recommendations = recommend_similar_customers(input_customer_id)\n",
        "\n",
        "# Output the recommendations\n",
        "print(f\"Recommendations for Customer {input_customer_id}:\\n\", recommendations)"
      ],
      "metadata": {
        "colab": {
          "base_uri": "https://localhost:8080/"
        },
        "id": "o9BGk64jHaS0",
        "outputId": "cea26294-8ae3-4805-e06c-83dc6fe7d129"
      },
      "execution_count": 25,
      "outputs": [
        {
          "output_type": "stream",
          "name": "stdout",
          "text": [
            "Recommendations for Customer C0005:\n",
            "   RecommendedCustomerID  SimilarityScore\n",
            "0                 C0096         0.571662\n",
            "1                 C0055         0.479191\n",
            "2                 C0064         0.328245\n"
          ]
        }
      ]
    },
    {
      "cell_type": "code",
      "source": [
        "# Function to generate lookalikes for multiple customers\n",
        "def generate_lookalike_map(customer_ids, top_n=3):\n",
        "    lookalike_map = {}\n",
        "    for customer_id in customer_ids:\n",
        "        recommendations = recommend_similar_customers(customer_id, top_n)\n",
        "        lookalike_map[customer_id] = recommendations.to_dict(orient='records')  # Convert to list of dictionaries\n",
        "    return lookalike_map\n",
        "\n",
        "# to Generate lookalikes for the first 20 customers (CustomerID: C0001 - C0020)\n",
        "\n",
        "first_20_customers = customers_df['CustomerID'][:20]\n",
        "lookalike_map = generate_lookalike_map(first_20_customers)\n",
        "\n",
        "\n",
        "## here is the first lookalike mdoel for the first 20 customers in the custmers list....\n",
        "\n",
        "lookalike_df = pd.DataFrame(lookalike_data)\n",
        "\n",
        "\n",
        "print(lookalike_df)\n",
        "\n",
        "\n"
      ],
      "metadata": {
        "colab": {
          "base_uri": "https://localhost:8080/"
        },
        "id": "jvOuo7RyIhLS",
        "outputId": "55ed1102-2f56-46b1-a38b-502b336e09fa"
      },
      "execution_count": 29,
      "outputs": [
        {
          "output_type": "stream",
          "name": "stdout",
          "text": [
            "   cust_id                                         lookalikes\n",
            "0    C0001  [{'cust_id': 'C0083', 'score': 0.6339024810972...\n",
            "1    C0002  [{'cust_id': 'C0030', 'score': 0.3443911869509...\n",
            "2    C0003  [{'cust_id': 'C0181', 'score': 0.6410058864642...\n",
            "3    C0004  [{'cust_id': 'C0076', 'score': 0.4927416817572...\n",
            "4    C0005  [{'cust_id': 'C0096', 'score': 0.5716619504750...\n",
            "5    C0006  [{'cust_id': 'C0058', 'score': 0.6635145607498...\n",
            "6    C0007  [{'cust_id': 'C0079', 'score': 0.4571635906556...\n",
            "7    C0008  [{'cust_id': 'C0144', 'score': 0.5336966823503...\n",
            "8    C0009  [{'cust_id': 'C0112', 'score': 0.7238626917533...\n",
            "9    C0010  [{'cust_id': 'C0077', 'score': 0.5017480088416...\n",
            "10   C0011  [{'cust_id': 'C0120', 'score': 0.5969620057957...\n",
            "11   C0012  [{'cust_id': 'C0158', 'score': 0.5574903060063...\n",
            "12   C0013  [{'cust_id': 'C0169', 'score': 0.6352267941995...\n",
            "13   C0014  [{'cust_id': 'C0128', 'score': 0.7725393039369...\n",
            "14   C0015  [{'cust_id': 'C0036', 'score': 0.7218666801535...\n",
            "15   C0016  [{'cust_id': 'C0187', 'score': 0.7673161857717...\n",
            "16   C0017  [{'cust_id': 'C0037', 'score': 0.4686670927605...\n",
            "17   C0018  [{'cust_id': 'C0026', 'score': 0.4151241816180...\n",
            "18   C0019  [{'cust_id': 'C0039', 'score': 0.5425939974799...\n",
            "19   C0020  [{'cust_id': 'C0026', 'score': 0.6794121530935...\n"
          ]
        }
      ]
    }
  ]
}